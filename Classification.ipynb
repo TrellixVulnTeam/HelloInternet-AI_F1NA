{
 "cells": [
  {
   "cell_type": "code",
   "execution_count": 1,
   "id": "impaired-conditioning",
   "metadata": {},
   "outputs": [
    {
     "name": "stderr",
     "output_type": "stream",
     "text": [
      "D:\\Miniconda3\\envs\\pytorch\\lib\\site-packages\\torchtext\\data\\field.py:150: UserWarning: Field class will be retired soon and moved to torchtext.legacy. Please see the most recent release notes for further information.\n",
      "  warnings.warn('{} class will be retired soon and moved to torchtext.legacy. Please see the most recent release notes for further information.'.format(self.__class__.__name__), UserWarning)\n",
      "D:\\Miniconda3\\envs\\pytorch\\lib\\site-packages\\torchtext\\data\\example.py:78: UserWarning: Example class will be retired soon and moved to torchtext.legacy. Please see the most recent release notes for further information.\n",
      "  warnings.warn('Example class will be retired soon and moved to torchtext.legacy. Please see the most recent release notes for further information.', UserWarning)\n"
     ]
    }
   ],
   "source": [
    "import torchtext\n",
    "from HIDataset import HelloInternetDataset\n",
    "\n",
    "BATCH_SIZE=128\n",
    "\n",
    "TEXT = torchtext.data.Field(fix_length=500, lower=True)\n",
    "LABEL = torchtext.data.Field(sequential=False, unk_token=None)\n",
    "fields = ((\"text\", TEXT), (\"label\", LABEL))\n",
    "\n",
    "data = HelloInternetDataset(path=\"data/hi_all_text.txt\", text_field=TEXT, label_field=LABEL)"
   ]
  },
  {
   "cell_type": "markdown",
   "id": "inappropriate-easter",
   "metadata": {},
   "source": [
    "### In this notebook, we examine whether a neural network can classify the person speaking based on certain patterns and regularities in their speech. Examples are generated using the podcast trascripts, which contains labels for each speaker. An example is provided below."
   ]
  },
  {
   "cell_type": "code",
   "execution_count": 2,
   "id": "productive-puppy",
   "metadata": {},
   "outputs": [
    {
     "data": {
      "text/plain": [
       "\"now that i think about if anyone i know ends up being a spy it could be you know me, huh? yeah. i don't think being a spy temperamentally would suit me. that's why you're such a good spy. it's the best cover ever. your cover is a public figure, yet a public figure who's very cagey about like identity. you go to other countries all the time without telling where you're going or where you're going. in fact, i'm convincing myself right now that\""
      ]
     },
     "execution_count": 2,
     "metadata": {},
     "output_type": "execute_result"
    }
   ],
   "source": [
    "\" \".join(data.examples[0].text)"
   ]
  },
  {
   "cell_type": "code",
   "execution_count": 21,
   "id": "referenced-provincial",
   "metadata": {},
   "outputs": [
    {
     "name": "stdout",
     "output_type": "stream",
     "text": [
      "# packages in environment at D:\\Miniconda3\\envs\\pytorch:\n",
      "pytorch                   1.7.1           py3.7_cuda110_cudnn8_0    pytorch\n",
      "torchtext                 0.8.1                      py37    pytorch\n"
     ]
    }
   ],
   "source": [
    "!conda list | findstr pytorch"
   ]
  },
  {
   "cell_type": "code",
   "execution_count": 3,
   "id": "eight-competition",
   "metadata": {},
   "outputs": [
    {
     "data": {
      "text/plain": [
       "'Brady'"
      ]
     },
     "execution_count": 3,
     "metadata": {},
     "output_type": "execute_result"
    }
   ],
   "source": [
    "data.examples[0].label"
   ]
  },
  {
   "cell_type": "code",
   "execution_count": 4,
   "id": "secure-constitutional",
   "metadata": {},
   "outputs": [],
   "source": [
    "train, test = data.split(split_ratio=0.9, stratified=True)"
   ]
  },
  {
   "cell_type": "code",
   "execution_count": 5,
   "id": "difficult-indian",
   "metadata": {},
   "outputs": [],
   "source": [
    "TEXT.build_vocab(train.text)\n",
    "LABEL.build_vocab(train.label)"
   ]
  },
  {
   "cell_type": "code",
   "execution_count": 6,
   "id": "equipped-politics",
   "metadata": {},
   "outputs": [
    {
     "name": "stderr",
     "output_type": "stream",
     "text": [
      "D:\\Miniconda3\\envs\\pytorch\\lib\\site-packages\\torchtext\\data\\iterator.py:48: UserWarning: Iterator class will be retired soon and moved to torchtext.legacy. Please see the most recent release notes for further information.\n",
      "  warnings.warn('{} class will be retired soon and moved to torchtext.legacy. Please see the most recent release notes for further information.'.format(self.__class__.__name__), UserWarning)\n"
     ]
    }
   ],
   "source": [
    "train_iter = torchtext.data.Iterator(train, batch_size=BATCH_SIZE, shuffle=True)\n",
    "test_iter = torchtext.data.Iterator(test, batch_size=BATCH_SIZE, shuffle=False)"
   ]
  },
  {
   "cell_type": "code",
   "execution_count": 7,
   "id": "verbal-detail",
   "metadata": {},
   "outputs": [],
   "source": [
    "\n",
    "import torch \n",
    "import torch.nn.functional as F\n",
    "\n",
    "class Model(torch.nn.Module):\n",
    "    def __init__(self, vocabulary, emb_dims, filters, kernel_size, maxlen, num_classes):\n",
    "        \n",
    "        \"\"\"\n",
    "            Simple 1D convolutional neural network. Contains embeddings, followed by one convolutional layer\n",
    "            and global max pooling across filters. Dropout is applied after convolutional features and a linear\n",
    "            layer predictions the class.\n",
    "        \"\"\"\n",
    "        \n",
    "        super(Model, self).__init__()\n",
    "        \n",
    "        self.embeddings = torch.nn.Embedding(vocabulary, emb_dims)\n",
    "        self.conv1d = torch.nn.Conv1d(emb_dims, filters, kernel_size, stride=3)\n",
    "        self.dense = torch.nn.Linear(filters, num_classes)\n",
    "        self.dropout = torch.nn.Dropout(0.5)\n",
    "        \n",
    "    def get_features(self, x):\n",
    "        forward1 = torch.transpose(self.embeddings(x), 1,2)\n",
    "        \n",
    "        return F.relu(self.conv1d(forward1))\n",
    "        \n",
    "    def forward(self, x):\n",
    "        forward2 = self.dropout(self.get_features(x))\n",
    "        \n",
    "        forward3 = F.max_pool1d(forward2, forward2.shape[2]).squeeze(2)\n",
    "        \n",
    "        logits = self.dense(forward3).squeeze(1)\n",
    "        \n",
    "        return logits"
   ]
  },
  {
   "cell_type": "markdown",
   "id": "characteristic-induction",
   "metadata": {},
   "source": [
    "### Small enough model but would still recommend using a GPU. The model is only around 15 million parameters so shoud allow for a decent batch size. Ive disabled gradient during inference anyway for smaller GPU's\n",
    "\n",
    "&nbsp;\n",
    "\n",
    "### You can increase/decrease batch size in the first cell at the top. You can also increase the max length and number of filters if you have space. Right now it should only take 1Gb of space on your GPU memory.\n",
    "\n",
    "\n",
    "&nbsp; \n",
    "\n",
    "### If you just want to use the GPU, remove any reference of .cuda() from the code. For example,\n",
    "\n",
    "```python\n",
    ">> model = Model(len(TEXT.vocab.itos), 300, 128, 3, 200, 2).cuda() \n",
    "\n",
    "# change this to the code below\n",
    "\n",
    ">> model = Model(len(TEXT.vocab.itos), 300, 128, 3, 200, 2)\n",
    "```"
   ]
  },
  {
   "cell_type": "code",
   "execution_count": 11,
   "id": "white-alert",
   "metadata": {},
   "outputs": [],
   "source": [
    "model = Model(len(TEXT.vocab.itos), 300, 128, 3, 200, 2).cuda()"
   ]
  },
  {
   "cell_type": "code",
   "execution_count": 12,
   "id": "developed-france",
   "metadata": {},
   "outputs": [
    {
     "name": "stdout",
     "output_type": "stream",
     "text": [
      "embeddings.weight torch.Size([50881, 300])\n",
      "conv1d.weight torch.Size([128, 300, 3])\n",
      "conv1d.bias torch.Size([128])\n",
      "dense.weight torch.Size([2, 128])\n",
      "dense.bias torch.Size([2])\n",
      "\n",
      "Total params: 15379886\n"
     ]
    }
   ],
   "source": [
    "param_count = 0\n",
    "\n",
    "for n, p in model.named_parameters():\n",
    "    print(n, p.shape)\n",
    "    param_count += p.reshape(-1).shape[0]\n",
    "\n",
    "print(\"\")\n",
    "print(\"Total params: {0}\".format(param_count))"
   ]
  },
  {
   "cell_type": "code",
   "execution_count": 13,
   "id": "negative-revolution",
   "metadata": {},
   "outputs": [
    {
     "name": "stdout",
     "output_type": "stream",
     "text": [
      "Thu Feb 04 14:41:40 2021       \n",
      "+-----------------------------------------------------------------------------+\n",
      "| NVIDIA-SMI 456.71       Driver Version: 456.71       CUDA Version: 11.1     |\n",
      "|-------------------------------+----------------------+----------------------+\n",
      "| GPU  Name            TCC/WDDM | Bus-Id        Disp.A | Volatile Uncorr. ECC |\n",
      "| Fan  Temp  Perf  Pwr:Usage/Cap|         Memory-Usage | GPU-Util  Compute M. |\n",
      "|===============================+======================+======================|\n",
      "|   0  GeForce GTX 106... WDDM  | 00000000:25:00.0  On |                  N/A |\n",
      "|  0%   49C    P0    30W / 200W |   1488MiB /  6144MiB |      0%      Default |\n",
      "+-------------------------------+----------------------+----------------------+\n",
      "                                                                               \n",
      "+-----------------------------------------------------------------------------+\n",
      "| Processes:                                                                  |\n",
      "|  GPU   GI   CI        PID   Type   Process name                  GPU Memory |\n",
      "|        ID   ID                                                   Usage      |\n",
      "|=============================================================================|\n",
      "|    0   N/A  N/A      1476    C+G   Insufficient Permissions        N/A      |\n",
      "|    0   N/A  N/A      2588      C   ...3\\envs\\pytorch\\python.exe    N/A      |\n",
      "|    0   N/A  N/A      3480    C+G   C:\\Windows\\explorer.exe         N/A      |\n",
      "|    0   N/A  N/A      4508    C+G   ...ekyb3d8bbwe\\YourPhone.exe    N/A      |\n",
      "|    0   N/A  N/A      5788    C+G   ...icrosoft VS Code\\Code.exe    N/A      |\n",
      "|    0   N/A  N/A      7680    C+G   ...me\\Application\\chrome.exe    N/A      |\n",
      "|    0   N/A  N/A      7988    C+G   ...TeamViewer\\TeamViewer.exe    N/A      |\n",
      "|    0   N/A  N/A      8548    C+G   ...artMenuExperienceHost.exe    N/A      |\n",
      "|    0   N/A  N/A      8880    C+G   ...5n1h2txyewy\\SearchApp.exe    N/A      |\n",
      "|    0   N/A  N/A     10968    C+G   ...perience\\NVIDIA Share.exe    N/A      |\n",
      "|    0   N/A  N/A     11484    C+G   ...nputApp\\TextInputHost.exe    N/A      |\n",
      "|    0   N/A  N/A     11980    C+G   ...bbwe\\Microsoft.Photos.exe    N/A      |\n",
      "|    0   N/A  N/A     12504    C+G   ...aming\\Spotify\\Spotify.exe    N/A      |\n",
      "|    0   N/A  N/A     12876    C+G   ...b3d8bbwe\\WinStore.App.exe    N/A      |\n",
      "|    0   N/A  N/A     12916    C+G   ...lPanel\\SystemSettings.exe    N/A      |\n",
      "|    0   N/A  N/A     13396    C+G   ...n64\\EpicGamesLauncher.exe    N/A      |\n",
      "|    0   N/A  N/A     13472    C+G   ...t\\Teams\\current\\Teams.exe    N/A      |\n",
      "|    0   N/A  N/A     14232    C+G   ...8wekyb3d8bbwe\\Cortana.exe    N/A      |\n",
      "|    0   N/A  N/A     14412    C+G   ...t\\Teams\\current\\Teams.exe    N/A      |\n",
      "|    0   N/A  N/A     14948    C+G   ...s\\Win64\\EpicWebHelper.exe    N/A      |\n",
      "+-----------------------------------------------------------------------------+\n"
     ]
    }
   ],
   "source": [
    "!nvidia-smi"
   ]
  },
  {
   "cell_type": "code",
   "execution_count": 14,
   "id": "addressed-ballot",
   "metadata": {},
   "outputs": [],
   "source": [
    "loss = torch.nn.CrossEntropyLoss(reduction='mean').cuda()\n",
    "op = torch.optim.Adam(model.parameters(), lr=1e-4)"
   ]
  },
  {
   "cell_type": "code",
   "execution_count": 15,
   "id": "accessory-ebony",
   "metadata": {},
   "outputs": [
    {
     "data": {
      "text/plain": [
       "Model(\n",
       "  (embeddings): Embedding(50881, 300)\n",
       "  (conv1d): Conv1d(300, 128, kernel_size=(3,), stride=(3,))\n",
       "  (dense): Linear(in_features=128, out_features=2, bias=True)\n",
       "  (dropout): Dropout(p=0.5, inplace=False)\n",
       ")"
      ]
     },
     "execution_count": 15,
     "metadata": {},
     "output_type": "execute_result"
    }
   ],
   "source": [
    "model.train()"
   ]
  },
  {
   "cell_type": "code",
   "execution_count": 16,
   "id": "alive-wales",
   "metadata": {},
   "outputs": [],
   "source": [
    "import sys \n",
    "from sklearn.metrics import accuracy_score\n",
    "import timeit \n",
    "import numpy as np\n",
    "import tqdm\n",
    "\n",
    "def binary_accuracy(y, preds):\n",
    "    \"\"\"\n",
    "    Returns accuracy per batch, i.e. if you get 8/10 right, this returns 0.8, NOT 8\n",
    "    \"\"\"\n",
    "\n",
    "    #round predictions to the closest integer\n",
    "    probs = torch.softmax(preds, dim=1)\n",
    "    winners = probs.argmax(dim=1)\n",
    "    \n",
    "    return accuracy_score(y, winners)\n",
    "\n",
    "\n",
    "def run_network(model, op, loss, epochs, data_loader, training=False):\n",
    "    start_time = timeit.default_timer()\n",
    "    \n",
    "    acc_list = []\n",
    "    \n",
    "    if training:\n",
    "        model.train()\n",
    "    else:\n",
    "        model.eval()\n",
    "        \n",
    "    \n",
    "    progress = tqdm.tqdm(total = int(len(data_loader) * epochs))\n",
    "    for epoch in range(epochs):\n",
    "        losses = 0\n",
    "        accs = 0\n",
    "        \n",
    "        \n",
    "        for step, batch in enumerate(data_loader):\n",
    "            x, y = batch.text.T, batch.label\n",
    "            \n",
    "            if training:\n",
    "                pred = model(x.long().cuda())\n",
    "            else:\n",
    "                with torch.no_grad():\n",
    "                    pred = model(x.long().cuda())\n",
    "                    \n",
    "            y = y.long().cuda()\n",
    "            batch_loss = loss(pred, y)\n",
    "            batch_acc = binary_accuracy(y.cpu().detach(), pred.cpu().detach())\n",
    "\n",
    "            losses += batch_loss.cpu().detach()\n",
    "            accs += batch_acc\n",
    "            \n",
    "            \n",
    "            if training:\n",
    "                op.zero_grad()\n",
    "                batch_loss.backward()\n",
    "                op.step()\n",
    "#             sys.stdout.write('\\r' + 'Epoch: ' + str(epoch) + '   Progress: ' + str(step) + \n",
    "#                                '/' + str(len(data_loader)) + '   Loss: ' + str(np.around(losses/ (step+1), 3)) + '   Acc: ' + str(np.around(accs/ (step+1), 3)))\n",
    "            progress.set_postfix({\"Epoch\": epoch+1, 'Accuracy': np.around(accs/ (step+1), 3), \"Loss\": np.around(losses.numpy()/ (step+1), 3)})\n",
    "            progress.update(1)\n",
    "            \n",
    "        acc_list.append(np.around(accs/ (step+1), 3))\n",
    "\n",
    "    print('')\n",
    "    #print(timeit.default_timer() - start_time)\n",
    "    progress.close()\n",
    "    \n",
    "    return acc_list"
   ]
  },
  {
   "cell_type": "code",
   "execution_count": 17,
   "id": "smaller-reverse",
   "metadata": {},
   "outputs": [
    {
     "name": "stderr",
     "output_type": "stream",
     "text": [
      "  0%|                                                                                                                                                                                                       | 0/7800 [00:00<?, ?it/s]"
     ]
    },
    {
     "name": "stdout",
     "output_type": "stream",
     "text": [
      "Training:\n"
     ]
    },
    {
     "name": "stderr",
     "output_type": "stream",
     "text": [
      "D:\\Miniconda3\\envs\\pytorch\\lib\\site-packages\\torchtext\\data\\batch.py:23: UserWarning: Batch class will be retired soon and moved to torchtext.legacy. Please see the most recent release notes for further information.\n",
      "  warnings.warn('{} class will be retired soon and moved to torchtext.legacy. Please see the most recent release notes for further information.'.format(self.__class__.__name__), UserWarning)\n",
      "100%|███████████████████████████████████████████████████████████████████████████████████████████████████████████████████████████████████████████████████████| 7800/7800 [04:35<00:00, 28.28it/s, Epoch=30, Accuracy=0.895, Loss=0.25]"
     ]
    },
    {
     "name": "stdout",
     "output_type": "stream",
     "text": [
      "\n"
     ]
    },
    {
     "name": "stderr",
     "output_type": "stream",
     "text": [
      "\n"
     ]
    }
   ],
   "source": [
    "epochs = 30\n",
    "print(\"Training:\")\n",
    "train_acc = run_network(model, op, loss, epochs, train_iter, training=True)"
   ]
  },
  {
   "cell_type": "code",
   "execution_count": 18,
   "id": "leading-sigma",
   "metadata": {},
   "outputs": [
    {
     "data": {
      "image/png": "[encoded data removed]",
      "text/plain": [
       "<Figure size 432x288 with 1 Axes>"
      ]
     },
     "metadata": {
      "needs_background": "light"
     },
     "output_type": "display_data"
    }
   ],
   "source": [
    "import matplotlib.pyplot as plt \n",
    "\n",
    "plt.plot(list(range(len(train_acc))), train_acc)\n",
    "plt.show()"
   ]
  },
  {
   "cell_type": "code",
   "execution_count": 19,
   "id": "accredited-disease",
   "metadata": {},
   "outputs": [
    {
     "name": "stderr",
     "output_type": "stream",
     "text": [
      "  0%|                                                                                                                                                                                                         | 0/29 [00:00<?, ?it/s]D:\\Miniconda3\\envs\\pytorch\\lib\\site-packages\\torchtext\\data\\batch.py:23: UserWarning: Batch class will be retired soon and moved to torchtext.legacy. Please see the most recent release notes for further information.\n",
      "  warnings.warn('{} class will be retired soon and moved to torchtext.legacy. Please see the most recent release notes for further information.'.format(self.__class__.__name__), UserWarning)\n",
      "100%|███████████████████████████████████████████████████████████████████████████████████████████████████████████████████████████████████████████████████████████| 29/29 [00:00<00:00, 45.23it/s, Epoch=1, Accuracy=0.771, Loss=0.488]"
     ]
    },
    {
     "name": "stdout",
     "output_type": "stream",
     "text": [
      "\n"
     ]
    },
    {
     "name": "stderr",
     "output_type": "stream",
     "text": [
      "\n"
     ]
    }
   ],
   "source": [
    "test_acc = run_network(model, op, loss, 1, test_iter, training=False)"
   ]
  },
  {
   "cell_type": "code",
   "execution_count": null,
   "id": "departmental-accordance",
   "metadata": {},
   "outputs": [],
   "source": []
  }
 ],
 "metadata": {
  "kernelspec": {
   "display_name": "Python [conda env:pytorch] *",
   "language": "python",
   "name": "conda-env-pytorch-py"
  },
  "language_info": {
   "codemirror_mode": {
    "name": "ipython",
    "version": 3
   },
   "file_extension": ".py",
   "mimetype": "text/x-python",
   "name": "python",
   "nbconvert_exporter": "python",
   "pygments_lexer": "ipython3",
   "version": "3.7.9"
  }
 },
 "nbformat": 4,
 "nbformat_minor": 5
}
